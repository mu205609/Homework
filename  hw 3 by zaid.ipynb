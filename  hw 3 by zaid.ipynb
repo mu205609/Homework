{
 "cells": [
  {
   "cell_type": "markdown",
   "metadata": {},
   "source": [
    "# Homework 3 (40 pts)"
   ]
  },
  {
   "cell_type": "markdown",
   "metadata": {},
   "source": [
    "\n",
    "Due Date: 11/12/2020 (Thursday 11:59 AM\n",
    "\n",
    "Save Notebook file as :HW2_YourStudentID.ipynb\n",
    "\n",
    "Upload to your Github and email the link to: jzhang@eastwest.edu\n",
    "\n",
    "Subject: Homework 3 by YourStudentID and your name"
   ]
  },
  {
   "cell_type": "code",
   "execution_count": 13,
   "metadata": {},
   "outputs": [],
   "source": [
    "%matplotlib inline\n",
    "import pandas as pd"
   ]
  },
  {
   "cell_type": "code",
   "execution_count": 14,
   "metadata": {},
   "outputs": [
    {
     "name": "stdout",
     "output_type": "stream",
     "text": [
      "(107, 10)\n",
      "Zaid: 20609 \n",
      "\n",
      "(107, 10)\n",
      "+++++++++++++++++++++++++++++++++++++++++++++++++++++++++++++++++++++++++++++++++++\n",
      "     Trans_No Operator Sales_First  Sales_Last       Date   Department  \\\n",
      "0    2018-001      KRM   Sebastian  Gruenewald   3/1/2018      Bedroom   \n",
      "1    2018-002      RKM   Sebastian  Gruenewald   3/1/2018      Bedroom   \n",
      "..        ...      ...         ...         ...        ...          ...   \n",
      "105  2018-102      MAP   Chantalle   Desmarais  3/31/2018      Bedroom   \n",
      "106  2018-103      KRM   Sebastian  Gruenewald  3/31/2018  Living Room   \n",
      "\n",
      "      Furniture      Pay_Type Trans_Type  Amount  \n",
      "0      Mattress       Finance  Promotion    2788  \n",
      "1      Mattress       Finance  Promotion    3245  \n",
      "..          ...           ...        ...     ...  \n",
      "105    Mattress  Paid in Full  Promotion    2000  \n",
      "106  End Tables       Finance   Standard    2505  \n",
      "\n",
      "[107 rows x 10 columns]\n"
     ]
    }
   ],
   "source": [
    "# limiting the display rows\n",
    "pd.set_option('display.max_rows', 5)\n",
    "sales = pd.read_csv('MarchSales.csv')\n",
    "print(sales.shape)\n",
    "sales\n",
    "print('Zaid: 20609 \\n')\n",
    "\n",
    "# Problem 1. (2 pt)\n",
    "\n",
    "# Show the number of rows and columns in sales dataframe.\n",
    "print(sales.shape)\n",
    "print('+++++++++++++++++++++++++++++++++++++++++++++++++++++++++++++++++++++++++++++++++++')\n",
    "print(sales)\n"
   ]
  },
  {
   "cell_type": "code",
   "execution_count": 15,
   "metadata": {},
   "outputs": [
    {
     "name": "stdout",
     "output_type": "stream",
     "text": [
      "Index(['Trans_No', 'Operator', 'Sales_First', 'Sales_Last', 'Date',\n",
      "       'Department', 'Furniture', 'Pay_Type', 'Trans_Type', 'Amount'],\n",
      "      dtype='object')\n",
      "**************************************\n",
      "\n",
      "Zaid: 20609 \n",
      "\n"
     ]
    }
   ],
   "source": [
    "# Problem 2 (2 pt)\n",
    "\n",
    "# show the column names of the datafram \n",
    "names = sales.columns\n",
    "\n",
    "print(names)\n",
    "\n",
    "print('**************************************\\n')\n",
    "# show the index of the datafram \n",
    "sales.index\n",
    "print('Zaid: 20609 \\n')\n"
   ]
  },
  {
   "cell_type": "code",
   "execution_count": 16,
   "metadata": {},
   "outputs": [
    {
     "name": "stdout",
     "output_type": "stream",
     "text": [
      "0      2018-001\n",
      "1      2018-002\n",
      "         ...   \n",
      "105    2018-102\n",
      "106    2018-103\n",
      "Name: Trans_No, Length: 107, dtype: object\n",
      "********************************\n",
      "Zaid: 20609 \n",
      "\n"
     ]
    }
   ],
   "source": [
    "# Problem 3 (2 pt)\n",
    "# Only show Trans number\n",
    "name = sales['Trans_No']  \n",
    "print(name)\n",
    "print('********************************')\n",
    "print('Zaid: 20609 \\n')\n",
    "\n"
   ]
  },
  {
   "cell_type": "code",
   "execution_count": 17,
   "metadata": {},
   "outputs": [
    {
     "name": "stdout",
     "output_type": "stream",
     "text": [
      "['Bedroom' 'Living Room' 'Appliances' 'Dining Room']\n",
      "\n",
      "Department\n",
      "********************************\n",
      "Bedroom\n",
      "Living Room\n",
      "Appliances\n",
      "Dining Room\n",
      "Zaid: 20609 \n",
      "\n"
     ]
    }
   ],
   "source": [
    "# Problem 4 (4 pt)\n",
    "# Show Department without duplicate\n",
    "print (sales.Department.unique())\n",
    "print()\n",
    "# Display department name as following format\n",
    "print('Department')\n",
    "\n",
    "print('********************************')\n",
    "names = sales.Department.unique()\n",
    "for n in names:\n",
    "    print(n)\n",
    "print('Zaid: 20609 \\n')"
   ]
  },
  {
   "cell_type": "code",
   "execution_count": 18,
   "metadata": {},
   "outputs": [
    {
     "name": "stdout",
     "output_type": "stream",
     "text": [
      "Zaid: 20609 \n",
      "\n"
     ]
    }
   ],
   "source": [
    "# Problem 5 (2 pt)\n",
    "# Show the columns: Trans_No, Sales Representatives Name.\n",
    "res = sales[['Trans_No','Sales_First','Sales_Last']]\n",
    "res\n",
    "print('Zaid: 20609 \\n')\n",
    "\n",
    "\n",
    "\n"
   ]
  },
  {
   "cell_type": "code",
   "execution_count": 9,
   "metadata": {},
   "outputs": [
    {
     "name": "stdout",
     "output_type": "stream",
     "text": [
      "Zaid: 20609 \n",
      "\n"
     ]
    }
   ],
   "source": [
    "# Problem 6 (2 pt)\n",
    "# Show the columns: Trans_No, Sales Representatives Name. \n",
    "# (only show the first, third and fifth row)\n",
    "# Hint use .loc\n",
    "\n",
    "sales[['Trans_No','Sales_First','Sales_Last']].loc[[0, 2, 4]]\n",
    "print('Zaid: 20609 \\n')\n",
    "\n",
    "\n"
   ]
  },
  {
   "cell_type": "code",
   "execution_count": 12,
   "metadata": {},
   "outputs": [
    {
     "name": "stdout",
     "output_type": "stream",
     "text": [
      "Zaid: 20609 \n",
      "\n"
     ]
    }
   ],
   "source": [
    "# Problem 7 (2 pt)\n",
    "# Show all transactions in the department of Living Room\n",
    "\n",
    "sales[sales.Department=='Living Room']\n",
    "print('Zaid: 20609 \\n')\n"
   ]
  },
  {
   "cell_type": "code",
   "execution_count": 10,
   "metadata": {},
   "outputs": [
    {
     "name": "stdout",
     "output_type": "stream",
     "text": [
      "Zaid: 20609 \n",
      "\n"
     ]
    }
   ],
   "source": [
    "# Problem 8 (2 pts)\n",
    "# Show all transaction in Living Room Department and Trans_Type is Promotion\n",
    "sales[(sales.Department=='Living Room') & (sales.Trans_Type=='Promotion') ]\n",
    "print('Zaid: 20609 \\n')\n",
    "\n"
   ]
  },
  {
   "cell_type": "code",
   "execution_count": 11,
   "metadata": {},
   "outputs": [
    {
     "name": "stdout",
     "output_type": "stream",
     "text": [
      "Zaid: 20609 \n",
      "\n"
     ]
    }
   ],
   "source": [
    "# Problem 9 (2 pts)\n",
    "# Show all transaction which amount is below 10000 or Pay_Type is Finance\n",
    "\n",
    "sales[(sales.Pay_Type=='Finance') & (sales.Amount <10000)]\n",
    "print('Zaid: 20609 \\n')\n",
    "\n"
   ]
  },
  {
   "cell_type": "code",
   "execution_count": 11,
   "metadata": {},
   "outputs": [
    {
     "name": "stdout",
     "output_type": "stream",
     "text": [
      "Zaid: 20609 \n",
      "\n"
     ]
    }
   ],
   "source": [
    "\n",
    "# Problem 10 (2 pts)\n",
    "# Show all transaction which amount is over 10000\n",
    "# Only include columns: Trans_No, Furniture,Pay_Type, Amount\n",
    "\n",
    "sales[(sales.Amount >10000)][['Trans_No','Furniture','Pay_Type','Amount']]\n",
    "print('Zaid: 20609 \\n')\n",
    "\n",
    "\n"
   ]
  },
  {
   "cell_type": "code",
   "execution_count": 13,
   "metadata": {},
   "outputs": [
    {
     "name": "stdout",
     "output_type": "stream",
     "text": [
      "Zaid: 20609 \n",
      "\n"
     ]
    }
   ],
   "source": [
    "\n",
    "\n",
    "#Problem 11 ( 2 pt)\n",
    "# Show the all transactions by Ambrose Sardelis\n",
    "sales[(sales.Sales_First=='Ambrose') & (sales.Sales_Last=='Sardelis') ]\n",
    "print('Zaid: 20609 \\n')\n"
   ]
  },
  {
   "cell_type": "code",
   "execution_count": 14,
   "metadata": {},
   "outputs": [
    {
     "name": "stdout",
     "output_type": "stream",
     "text": [
      "The number of transactions by Ambrose Sardelis is : 24\n",
      "Zaid: 20609 \n",
      "\n"
     ]
    }
   ],
   "source": [
    "# Problem 12 ( 2 pt)\n",
    " \n",
    "# Show the number of transactions by Ambrose Sardelis\n",
    "print('The number of transactions by Ambrose Sardelis is :', len(sales[sales.Sales_First=='Ambrose']))\n",
    "print('Zaid: 20609 \\n')\n",
    "\n"
   ]
  },
  {
   "cell_type": "code",
   "execution_count": 15,
   "metadata": {},
   "outputs": [
    {
     "name": "stdout",
     "output_type": "stream",
     "text": [
      "The total sales of transactions by Ambrose Sardelis is $ 131899\n",
      "Zaid: 20609 \n",
      "\n"
     ]
    }
   ],
   "source": [
    "# Problem 13 ( 2 pt)\n",
    " \n",
    "# Show the total sales by Ambrose Sardelis\n",
    "print('The total sales of transactions by Ambrose Sardelis is','$',sales[sales.Sales_First=='Ambrose'].Amount.sum() )\n",
    "print('Zaid: 20609 \\n')\n"
   ]
  },
  {
   "cell_type": "code",
   "execution_count": 16,
   "metadata": {},
   "outputs": [
    {
     "name": "stdout",
     "output_type": "stream",
     "text": [
      "The total sales Amount is $ 493887\n",
      "Zaid: 20609 \n",
      "\n"
     ]
    }
   ],
   "source": [
    "# Problem 14 (2 pt)\n",
    "# Show the total sales amount in March.\n",
    "\n",
    "print('The total sales Amount is','$',sales.Amount.sum() )\n",
    "print('Zaid: 20609 \\n')\n",
    "\n",
    "\n"
   ]
  },
  {
   "cell_type": "code",
   "execution_count": 17,
   "metadata": {},
   "outputs": [
    {
     "name": "stdout",
     "output_type": "stream",
     "text": [
      "Total Number of transactions :  107\n",
      "Total Promotion transactions :  52\n",
      "Percentage of sales transaction  48.60%\n",
      "Zaid: 20609 \n",
      "\n"
     ]
    }
   ],
   "source": [
    "\n",
    "# Problem 15 & 16 ( 4 pts)\n",
    "# What the percentage of sales transactions in Promotion type among all sales transaction.\n",
    "\n",
    "total_transaction = len(sales['Trans_Type'])\n",
    "print('Total Number of transactions : ',total_transaction )\n",
    "\n",
    "prom_transaction = len(sales[sales.Trans_Type == 'Promotion'])\n",
    "print('Total Promotion transactions : ',prom_transaction )\n",
    "\n",
    "print('Percentage of sales transaction ', format((prom_transaction/total_transaction), '.2%'))\n",
    "print('Zaid: 20609 \\n')\n"
   ]
  },
  {
   "cell_type": "code",
   "execution_count": 18,
   "metadata": {},
   "outputs": [
    {
     "name": "stdout",
     "output_type": "stream",
     "text": [
      "Total sales of March: $  493887\n",
      "Total sales of Living room: $  155323\n",
      "Percentage of total sales is  31.45%\n",
      "Zaid: 20609 \n",
      "\n"
     ]
    }
   ],
   "source": [
    "\n",
    "# Problem 16 & 17 ( 4 pts)\n",
    "# What the percentage of total sales from living room department among total sales.\n",
    "#sales[sales.Department=='Living Room'].count()\n",
    "\n",
    "t_sale = sales['Amount'].sum()\n",
    "print('Total sales of March: $ ', t_sale)\n",
    "\n",
    "living_room_sales = sales[(sales.Department == 'Living Room')]['Amount'].sum()\n",
    "print('Total sales of Living room: $ ', living_room_sales)\n",
    "\n",
    "print('Percentage of total sales is ', format((living_room_sales/t_sale), '.2%'))\n",
    "\n",
    "print('Zaid: 20609 \\n')"
   ]
  },
  {
   "cell_type": "code",
   "execution_count": 19,
   "metadata": {},
   "outputs": [
    {
     "name": "stdout",
     "output_type": "stream",
     "text": [
      "Total sales of Bedroom and Living room: $  282018\n",
      "Zaid: 20609 \n",
      "\n"
     ]
    }
   ],
   "source": [
    "# Problem 18 ( 2 pt)\n",
    "# Show sales Amount from Bedroom and living room department. ( hint: Use OR Logic)\n",
    "#sales[(sales['Department'] =='Bedroom') | (sales['Department'] =='Living room') ].Amount.sum()\n",
    "\n",
    "total_sale_amount = sales[(sales['Department'] =='Bedroom') | (sales['Department'] =='Living Room') ].Amount.sum()\n",
    "print('Total sales of Bedroom and Living room: $ ', total_sale_amount)\n",
    "print('Zaid: 20609 \\n')\n",
    "\n"
   ]
  },
  {
   "cell_type": "code",
   "execution_count": 20,
   "metadata": {},
   "outputs": [
    {
     "name": "stdout",
     "output_type": "stream",
     "text": [
      "50\n",
      "Zaid: 20609 \n",
      "\n"
     ]
    }
   ],
   "source": [
    "# Problem 19 ( 2 pt)\n",
    "# Show the number of sales transactions from Bedroom department and Living Room department.\n",
    "#  ( hint: Use OR Logic)\n",
    "df = sales\n",
    "\n",
    "df = df[ (df.Department=='Bedroom') | (df.Department=='Living Room')]\n",
    "df\n",
    "\n",
    "# use count()\n",
    "df.count()\n",
    "print(df['Department'].count())\n",
    "print('Zaid: 20609 \\n')\n",
    "\n",
    "\n"
   ]
  },
  {
   "cell_type": "code",
   "execution_count": null,
   "metadata": {},
   "outputs": [],
   "source": []
  }
 ],
 "metadata": {
  "kernelspec": {
   "display_name": "Python 3",
   "language": "python",
   "name": "python3"
  },
  "language_info": {
   "codemirror_mode": {
    "name": "ipython",
    "version": 3
   },
   "file_extension": ".py",
   "mimetype": "text/x-python",
   "name": "python",
   "nbconvert_exporter": "python",
   "pygments_lexer": "ipython3",
   "version": "3.8.3"
  }
 },
 "nbformat": 4,
 "nbformat_minor": 1
}
